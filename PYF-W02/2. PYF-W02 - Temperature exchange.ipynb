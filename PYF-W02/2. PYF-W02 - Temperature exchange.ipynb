{
 "cells": [
  {
   "cell_type": "code",
   "execution_count": 4,
   "id": "d5367262",
   "metadata": {},
   "outputs": [
    {
     "name": "stdout",
     "output_type": "stream",
     "text": [
      "The Fahrenheit degree is: 98.6 °F\n"
     ]
    }
   ],
   "source": [
    "\"\"\"\n",
    "Nhập vào giá trị độ °C muốn chuyển đổi\n",
    "Tính độ °F tương ứng qua công thức:\n",
    "°F  =  ( °C × 1.8 ) +  32\n",
    "Hiển thị độ °F (In ra màn hình)\n",
    "\"\"\"\n",
    "\n",
    "c = int(input(\"Please input Celsius degree °C: \"))\n",
    "f = c * 1.8 + 32\n",
    "print(f\"The Fahrenheit degree is: {round(f,2)} °F\")"
   ]
  }
 ],
 "metadata": {
  "kernelspec": {
   "display_name": "Python 3 (ipykernel)",
   "language": "python",
   "name": "python3"
  },
  "language_info": {
   "codemirror_mode": {
    "name": "ipython",
    "version": 3
   },
   "file_extension": ".py",
   "mimetype": "text/x-python",
   "name": "python",
   "nbconvert_exporter": "python",
   "pygments_lexer": "ipython3",
   "version": "3.12.3"
  }
 },
 "nbformat": 4,
 "nbformat_minor": 5
}
