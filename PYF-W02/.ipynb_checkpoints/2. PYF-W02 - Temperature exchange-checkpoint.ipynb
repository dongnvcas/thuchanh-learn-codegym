{
 "cells": [
  {
   "cell_type": "code",
   "execution_count": null,
   "id": "d5367262",
   "metadata": {},
   "outputs": [],
   "source": [
    "\"\"\"\n",
    "Nhập vào giá trị độ °C muốn chuyển đổi\n",
    "Tính độ °F tương ứng qua công thức:\n",
    "°F  =  ( °C × 1.8 ) +  32\n",
    "Hiển thị độ °F (In ra màn hình)\n",
    "\"\"\"\n",
    "\n",
    "c = int(input(\"Please \"))"
   ]
  }
 ],
 "metadata": {
  "kernelspec": {
   "display_name": "Python 3 (ipykernel)",
   "language": "python",
   "name": "python3"
  },
  "language_info": {
   "codemirror_mode": {
    "name": "ipython",
    "version": 3
   },
   "file_extension": ".py",
   "mimetype": "text/x-python",
   "name": "python",
   "nbconvert_exporter": "python",
   "pygments_lexer": "ipython3",
   "version": "3.11.5"
  }
 },
 "nbformat": 4,
 "nbformat_minor": 5
}
