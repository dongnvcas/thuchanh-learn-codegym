{
 "cells": [
  {
   "cell_type": "code",
   "execution_count": 1,
   "metadata": {},
   "outputs": [
    {
     "name": "stdout",
     "output_type": "stream",
     "text": [
      "Error, out of range\n"
     ]
    }
   ],
   "source": [
    "n = int(input(\"Please input a number from 1 to 7: \"))\n",
    "if n == 1:\n",
    "    print(\"1: Sunday\")\n",
    "elif n == 2:\n",
    "    print(\"2: Monday\")\n",
    "elif n == 3:\n",
    "    print(\"3: Tuesday\")\n",
    "elif n == 4:\n",
    "    print(\"4: Wednesday\")\n",
    "elif n == 5:\n",
    "    print(\"5: Thursday\")\n",
    "elif n == 6:\n",
    "    print(\"6: Friday\")\n",
    "elif n == 7:\n",
    "    print(\"7: Saturday\")\n",
    "else:\n",
    "    print(\"Error, out of range\")"
   ]
  }
 ],
 "metadata": {
  "kernelspec": {
   "display_name": "Python 3",
   "language": "python",
   "name": "python3"
  },
  "language_info": {
   "codemirror_mode": {
    "name": "ipython",
    "version": 3
   },
   "file_extension": ".py",
   "mimetype": "text/x-python",
   "name": "python",
   "nbconvert_exporter": "python",
   "pygments_lexer": "ipython3",
   "version": "3.12.3"
  }
 },
 "nbformat": 4,
 "nbformat_minor": 2
}
