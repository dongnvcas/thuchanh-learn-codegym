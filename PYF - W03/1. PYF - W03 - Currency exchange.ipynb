{
 "cells": [
  {
   "cell_type": "code",
   "execution_count": 1,
   "metadata": {},
   "outputs": [
    {
     "name": "stdout",
     "output_type": "stream",
     "text": [
      "The amount in VND is: 145920000\n"
     ]
    }
   ],
   "source": [
    "'''\n",
    "[Bài tập] Ứng dụng chuyển đổi tiền tệ\n",
    "Bước 1: Nhập số tiền USD cần đổi\n",
    "Bước 2: Nhập tỉ giá USD/VND \n",
    "Bước 3: Tính toán ra số tiền VND theo tỉ giá và số tiền USD nhập vào bên trên\n",
    "Bước 4: In ra kết quả\n",
    "'''\n",
    "usd = int(input(\"Please input amount in USD: \"))\n",
    "rate = int(input(\"Please input exchange rate: \"))\n",
    "vnd = usd * rate \n",
    "print(f\"The amount in VND is: {vnd}\")"
   ]
  }
 ],
 "metadata": {
  "kernelspec": {
   "display_name": "Python 3",
   "language": "python",
   "name": "python3"
  },
  "language_info": {
   "codemirror_mode": {
    "name": "ipython",
    "version": 3
   },
   "file_extension": ".py",
   "mimetype": "text/x-python",
   "name": "python",
   "nbconvert_exporter": "python",
   "pygments_lexer": "ipython3",
   "version": "3.12.3"
  }
 },
 "nbformat": 4,
 "nbformat_minor": 2
}
