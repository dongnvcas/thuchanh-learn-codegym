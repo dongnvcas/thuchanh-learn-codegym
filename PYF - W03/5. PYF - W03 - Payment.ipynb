{
 "cells": [
  {
   "cell_type": "code",
   "execution_count": 1,
   "metadata": {},
   "outputs": [
    {
     "name": "stdout",
     "output_type": "stream",
     "text": [
      "You need to pay 125.0\n"
     ]
    }
   ],
   "source": [
    "\"\"\"\n",
    "Nếu chi từ 150$ trở lên:  số tiền thanh toán = số tiền nhập - 50,\n",
    "Nếu chi từ 100$ trở lên:  số tiền thanh toán = số tiền nhập - 25,\n",
    "Nếu chi từ 75$ trở lên:  số tiền thanh toán = số tiền nhập - 15,\n",
    "Nếu chi ít hơn 75$:  số tiền thanh toán = số tiền nhập,\n",
    "\"\"\"\n",
    "payment = float(input(\"Please input the payment amount: \"))\n",
    "if payment >= 150:\n",
    "    final_payment = payment - 50\n",
    "elif payment >= 100:\n",
    "    final_payment = payment - 25\n",
    "elif payment >= 75:\n",
    "    final_payment = payment - 15\n",
    "else:\n",
    "    final_payment = payment\n",
    "print(f\"You need to pay {final_payment}\")"
   ]
  }
 ],
 "metadata": {
  "kernelspec": {
   "display_name": "Python 3",
   "language": "python",
   "name": "python3"
  },
  "language_info": {
   "codemirror_mode": {
    "name": "ipython",
    "version": 3
   },
   "file_extension": ".py",
   "mimetype": "text/x-python",
   "name": "python",
   "nbconvert_exporter": "python",
   "pygments_lexer": "ipython3",
   "version": "3.12.3"
  }
 },
 "nbformat": 4,
 "nbformat_minor": 2
}
