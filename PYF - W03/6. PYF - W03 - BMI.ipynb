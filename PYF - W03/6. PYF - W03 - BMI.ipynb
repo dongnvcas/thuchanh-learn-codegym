{
 "cells": [
  {
   "cell_type": "code",
   "execution_count": 1,
   "metadata": {},
   "outputs": [
    {
     "name": "stdout",
     "output_type": "stream",
     "text": [
      "Bình thường\n"
     ]
    }
   ],
   "source": [
    "chieu_cao = int(input(\"Nhập vào chiều cao (cm) của bạn: \"))\n",
    "can_nang = int(input(\"Nhập vào cân nặng (kg) của bạn: \"))\n",
    "BMI = can_nang/((chieu_cao*0.01) * (chieu_cao*0.01))\n",
    "if BMI < 16:\n",
    "    print(\"Gầy cấp độ III\")\n",
    "elif BMI >= 16 and BMI <17:\n",
    "    print(\"Gầy cấp độ II\")\n",
    "elif BMI >= 17 and BMI < 18.5:\n",
    "    print(\"Gầy cấp độ I\")\n",
    "elif BMI >= 18.5 and BMI < 25:\n",
    "    print(\"Bình thường\")\n",
    "elif BMI >= 25 and BMI <30:\n",
    "    print(\"Thừa cân\")\n",
    "elif BMI >= 30 and BMI < 35:\n",
    "    print(\"Béo phì cấp độ I\")\n",
    "elif BMI >= 35 and BMI < 40:\n",
    "    print(\"Béo phì caaso độ II\")\n",
    "else:\n",
    "    print(\"Béo phì cấp độ III\")"
   ]
  }
 ],
 "metadata": {
  "kernelspec": {
   "display_name": "Python 3",
   "language": "python",
   "name": "python3"
  },
  "language_info": {
   "codemirror_mode": {
    "name": "ipython",
    "version": 3
   },
   "file_extension": ".py",
   "mimetype": "text/x-python",
   "name": "python",
   "nbconvert_exporter": "python",
   "pygments_lexer": "ipython3",
   "version": "3.12.3"
  }
 },
 "nbformat": 4,
 "nbformat_minor": 2
}
